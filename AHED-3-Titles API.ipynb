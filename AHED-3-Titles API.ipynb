{
 "cells": [
  {
   "cell_type": "markdown",
   "id": "c116366e",
   "metadata": {},
   "source": [
    "# Notebook #3 for AHED Project\n",
    "\n",
    "___\n",
    "## Task 3: Match AHED to ADS Items by Title\n",
    "Match additional papers by Title to bibcodes via ADS API\n",
    "\n",
    "Outline:\n",
    "\n",
    "- Step 1: Format titles to query the ADS API\n",
    "- Step 2: Query the ADS API with titles, return bibcodes\n",
    "- Step 3: Match the bibcodes back to the paper list"
   ]
  },
  {
   "cell_type": "markdown",
   "id": "5fb023f6",
   "metadata": {},
   "source": [
    "### Step 1: Format file with titles list"
   ]
  },
  {
   "cell_type": "code",
   "execution_count": null,
   "id": "1d9d0db0",
   "metadata": {
    "scrolled": true
   },
   "outputs": [],
   "source": [
    "import pandas as pd\n",
    "import numpy as np\n",
    "\n",
    "# Open my excel sheet as a data frame\n",
    "df = pd.read_excel(\"AHED/refs_matched.xlsx\")\n",
    "\n",
    "# Grab only rows where bibcode is null\n",
    "dt = df[df['BIBCODE'].isna()]\n",
    "\n",
    "# Create title & year query strings\n",
    "dt['QUERY'] = ('(title: \"' + dt['TITLE'].astype(str) + '\" AND year:' + dt['YEAR'].astype(str) + ')')\n",
    "\n",
    "# Format query list\n",
    "titles = dt['QUERY'].to_list()\n",
    "\n",
    "dt"
   ]
  },
  {
   "cell_type": "markdown",
   "id": "4ea3faea",
   "metadata": {},
   "source": [
    "### Step 2: API Connection"
   ]
  },
  {
   "cell_type": "code",
   "execution_count": null,
   "id": "eb0da6f9",
   "metadata": {},
   "outputs": [],
   "source": [
    "# This loops through the titles list in chunks of 25 titles, querying the API, \n",
    "# returning bibcodes and titles matched, and then appending the results as a data frame.\n",
    "\n",
    "import requests\n",
    "import json\n",
    "\n",
    "# --- API REQUEST --- \n",
    "token = \"pHazHxvHjPVPAcotvj7DIijROZXUjG5vXa2OaCQO\"\n",
    "url = \"https://api.adsabs.harvard.edu/v1/search/query?\"\n",
    "\n",
    "data=[]\n",
    "\n",
    "for i in range(0, len(titles), 25):\n",
    "    chunk = titles[i:i + 25]\n",
    "    tagged = [t for t in chunk]\n",
    "    query = ' OR '.join(tagged)\n",
    "    \n",
    "    params = {\"q\":query,\"fl\":\"title,bibcode\",\"rows\":200}\n",
    "    headers = {'Authorization': 'Bearer ' + token}\n",
    "    response = requests.get(url, params=params, headers=headers)\n",
    "#     print(data.text, '\\n')\n",
    "\n",
    "    from_solr = response.json()\n",
    "    if (from_solr.get('response')):\n",
    "        num_docs = from_solr['response'].get('numFound', 0)\n",
    "        if num_docs > 0:\n",
    "            for doc in from_solr['response']['docs']:\n",
    "                data.append((doc['bibcode'],doc['title'][0]))\n",
    "#     print(data)\n",
    "\n",
    "titles_matched = pd.DataFrame(data, columns = ['bibcode','TITLE'])\n",
    "titles_matched"
   ]
  },
  {
   "cell_type": "markdown",
   "id": "448f5e75",
   "metadata": {},
   "source": [
    "### Step 3: Merge list to original data frame"
   ]
  },
  {
   "cell_type": "code",
   "execution_count": null,
   "id": "45aab2f8",
   "metadata": {},
   "outputs": [],
   "source": [
    "# Merge/Join new table to original, joined on 'TITLE'\n",
    "merged = df.merge(titles_matched, on='TITLE', how='left')\n",
    "\n",
    "# Combine bibcode columns\n",
    "merged['BIBCODE'] = merged['BIBCODE'].fillna(merged['bibcode'])\n",
    "merged = merged.drop('bibcode',axis=1)\n",
    "\n",
    "# Count my running total of bibcodes matched\n",
    "# merged = merged['BIBCODE'].dropna()\n",
    "\n",
    "# Clean up nulls\n",
    "merged = merged.replace(np.nan,'NA')\n",
    "\n",
    "# Export merged data to new excel file\n",
    "merged.to_excel(\"AHED/final_matched_2.xlsx\", index=False)\n",
    "\n",
    "merged"
   ]
  },
  {
   "cell_type": "markdown",
   "id": "259ab772",
   "metadata": {},
   "source": [
    "Status/Summary:\n",
    "\n",
    "- We started with 862 papers from the provided AHED spreadsheets\n",
    "- Refined it to 797 papers removing duplicates\n",
    "\n",
    "- Matched 156 DOIs to existing ADS Bibcodes\n",
    "- Matched 397 additional papers by refstrings\n",
    "- Matched 192 additional papers by Title\n",
    "\n",
    "= Total ~730 bibcodes out of possible 797"
   ]
  }
 ],
 "metadata": {
  "kernelspec": {
   "display_name": "Python 3",
   "language": "python",
   "name": "python3"
  },
  "language_info": {
   "codemirror_mode": {
    "name": "ipython",
    "version": 3
   },
   "file_extension": ".py",
   "mimetype": "text/x-python",
   "name": "python",
   "nbconvert_exporter": "python",
   "pygments_lexer": "ipython3",
   "version": "3.8.8"
  }
 },
 "nbformat": 4,
 "nbformat_minor": 5
}
