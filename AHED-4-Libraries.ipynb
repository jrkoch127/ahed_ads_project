{
 "cells": [
  {
   "cell_type": "markdown",
   "id": "f4923505",
   "metadata": {},
   "source": [
    "# Notebook #4 for ARC/SSAD Project\n",
    "\n",
    "The final task for this project is to create an ADS Library of ARC/SSAD matches, curate the remaining/missing items to ADS, and then create a separate library for those added.\n",
    "\n",
    "## Task 4: Curate missing items and create ADS Libraries\n",
    "\n",
    "Outline:\n",
    "- Step 1: Curate records of missing items\n",
    "- Step 2: Create ADS Library of matched items\n",
    "- Step 3: Create ADS Library of newly added items\n",
    "\n",
    "### Step 2: Create ADS Library of Matched Items"
   ]
  },
  {
   "cell_type": "code",
   "execution_count": null,
   "id": "5ec1fba9",
   "metadata": {},
   "outputs": [],
   "source": [
    "import pandas as pd\n",
    "import numpy as np\n",
    "\n",
    "# Open my excel sheet as a data frame\n",
    "df = pd.read_excel(\"AHED/ADS-Matched-with-notes.xlsx\")\n",
    "\n",
    "# Take bibcode list, drop nulls and duplicates\n",
    "df = df['BIBCODE'].replace('indexed', np.nan)\n",
    "df = df.replace('Indexed', np.nan)\n",
    "df = df.dropna()\n",
    "df = df.drop_duplicates(keep=\"last\")\n",
    "\n",
    "# Format bibcodes to list\n",
    "bibs = df.to_list()\n",
    "print(\"Number of bibcodes:\", len(bibs))"
   ]
  },
  {
   "cell_type": "code",
   "execution_count": null,
   "id": "706bf1b5",
   "metadata": {},
   "outputs": [],
   "source": [
    "import requests\n",
    "import json\n",
    "\n",
    "# --- API REQUEST --- \n",
    "token = \"pHazHxvHjPVPAcotvj7DIijROZXUjG5vXa2OaCQO\"\n",
    "url = \"https://api.adsabs.harvard.edu/v1/biblib/libraries\"\n",
    "    \n",
    "data = { \n",
    "    \"name\":\"ARC/SSAD Library\",\n",
    "    \"description\":\"Library of records ADS matches of ARC/SSAD holdings\",\n",
    "    \"public\": True,\n",
    "    \"bibcode\": bibs\n",
    "}\n",
    "headers = {'Authorization': 'Bearer ' + token}\n",
    "response = requests.post(url, data=json.dumps(data), headers=headers)\n",
    "\n",
    "print(response.status_code)"
   ]
  },
  {
   "cell_type": "markdown",
   "id": "5ef4ba00",
   "metadata": {},
   "source": [
    "### Step 3: Create ADS Library of added/curated items"
   ]
  },
  {
   "cell_type": "code",
   "execution_count": null,
   "id": "1efbcb7d",
   "metadata": {},
   "outputs": [],
   "source": [
    "import pandas as pd\n",
    "\n",
    "# Load the txt files of records I made\n",
    "bibs = pd.read_csv('/Users/sao/Documents/Curation/2021-10_AHED Missing.txt', delimiter='\\t')\n",
    "book1 = pd.read_csv('/Users/sao/Documents/Curation/2021-10_CCTP Book.txt', delimiter='\\t')\n",
    "book2 = pd.read_csv('/Users/sao/Documents/Curation/2021-10_SRML Book.txt', delimiter='\\t')\n",
    "\n",
    "# Convert to data frame\n",
    "bibs = pd.DataFrame(bibs)\n",
    "book1_r = pd.DataFrame(book1)\n",
    "book2_r = pd.DataFrame(book2)\n",
    "\n",
    "bibs.columns=['data']\n",
    "book1_r.columns=['data']\n",
    "book2_r.columns=['data']\n",
    "\n",
    "# Join all the lines together in one column\n",
    "bib_list = pd.concat([bibs, book1_r, book2_r], axis='index', ignore_index=True)\n",
    "bib_list"
   ]
  },
  {
   "cell_type": "code",
   "execution_count": null,
   "id": "61460ae8",
   "metadata": {},
   "outputs": [],
   "source": [
    "# Isolate the bibcodes only by grabbing the rows that start iwht %R\n",
    "rslt = bib_list[bib_list['data'].str.startswith('%R')]\n",
    "rslt['data'] = rslt['data'].map(lambda x: x.lstrip('%R '))\n",
    "print('Number of bibcodes:',len(rslt),'\\n',rslt)"
   ]
  },
  {
   "cell_type": "code",
   "execution_count": null,
   "id": "f51281c0",
   "metadata": {},
   "outputs": [],
   "source": [
    "# Convert to list\n",
    "library = rslt['data'].to_list()\n",
    "library"
   ]
  },
  {
   "cell_type": "code",
   "execution_count": null,
   "id": "537453ee",
   "metadata": {},
   "outputs": [],
   "source": [
    "import requests\n",
    "import json\n",
    "\n",
    "# --- API REQUEST --- \n",
    "token = \"pHazHxvHjPVPAcotvj7DIijROZXUjG5vXa2OaCQO\"\n",
    "url = \"https://api.adsabs.harvard.edu/v1/biblib/libraries\"\n",
    "    \n",
    "data = { \n",
    "    \"name\":\"ARC/SSAD Library 2\",\n",
    "    \"description\":\"Library of records ADS added/curated from references of ARC/SSAD holdings\",\n",
    "    \"public\": True,\n",
    "    \"bibcode\": library\n",
    "}\n",
    "headers = {'Authorization': 'Bearer ' + token}\n",
    "response = requests.post(url, data=json.dumps(data), headers=headers)\n",
    "\n",
    "print(response.status_code)"
   ]
  }
 ],
 "metadata": {
  "kernelspec": {
   "display_name": "Python 3",
   "language": "python",
   "name": "python3"
  },
  "language_info": {
   "codemirror_mode": {
    "name": "ipython",
    "version": 3
   },
   "file_extension": ".py",
   "mimetype": "text/x-python",
   "name": "python",
   "nbconvert_exporter": "python",
   "pygments_lexer": "ipython3",
   "version": "3.8.8"
  }
 },
 "nbformat": 4,
 "nbformat_minor": 5
}
