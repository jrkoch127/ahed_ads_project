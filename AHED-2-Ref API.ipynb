{
 "cells": [
  {
   "cell_type": "markdown",
   "id": "c116366e",
   "metadata": {},
   "source": [
    "# Notebook #2 for ARC/SSAD Project\n",
    "___\n",
    "\n",
    "## Task 2: Match ARC/SSAD to ADS Items by Reference Strings\n",
    "Match papers (without DOIs) to ADS bibcodes via Reference Service\n",
    "\n",
    "Outline:\n",
    "- Step 1: Format file of papers into reference strings\n",
    "- Step 2: Query the Reference API with reference strings, return bibcodes\n",
    "- Step 3: Match the bibcodes back to the paper list\n",
    "___\n",
    "\n",
    "### Step 1: Format file with reference list\n",
    "Took my new publications list to prep them to be reference strings that would be queried in the reference service API. "
   ]
  },
  {
   "cell_type": "code",
   "execution_count": null,
   "id": "832c04f2",
   "metadata": {},
   "outputs": [],
   "source": [
    "import pandas as pd\n",
    "import numpy as np\n",
    "\n",
    "# Open my excel sheet as a data frame\n",
    "df = pd.read_excel(\"AHED/dois_matched.xlsx\")\n",
    "\n",
    "# String together the fields into single reference strings (Authors, Year, Journal)\n",
    "df['REFS'] = df['AUTHORS'].astype(str) + ', ' + df['YEAR'].astype(str) + ', ' + df['JOURNAL'].astype(str)\n",
    "\n",
    "# Grab only rows where DOI is null\n",
    "dt = df[df['DOI'].isna()]\n",
    "\n",
    "# Export my reference strings to text file\n",
    "dt['REFS'].to_csv(\"AHED/ref_list.txt\", index=False, header=False, sep='\\t')\n",
    "\n",
    "dt"
   ]
  },
  {
   "cell_type": "markdown",
   "id": "4ea3faea",
   "metadata": {},
   "source": [
    "### Step 2: Connect to Reference Service API"
   ]
  },
  {
   "cell_type": "code",
   "execution_count": null,
   "id": "87451716",
   "metadata": {},
   "outputs": [],
   "source": [
    "import sys, os, io\n",
    "import requests\n",
    "import argparse\n",
    "import json\n",
    "\n",
    "# ADS Prod API Token\n",
    "token = 'pHazHxvHjPVPAcotvj7DIijROZXUjG5vXa2OaCQO'\n",
    "domain = 'https://api.adsabs.harvard.edu/v1/'\n",
    "\n",
    "## REFERENCE SERVICE ##\n",
    "\n",
    "# --- Function to read my reference strings file and make a list called 'references'\n",
    "def read_file(filename):\n",
    "\n",
    "    references = []\n",
    "    with open(filename, \"r\") as f:\n",
    "        for line in f:\n",
    "            references.append(line)\n",
    "    return references\n",
    "\n",
    "# --- Function to connect to Reference Service API, querying my 'references' list\n",
    "def resolve(references):\n",
    "    \n",
    "    payload = {'reference': references}\n",
    "\n",
    "    response = requests.post(\n",
    "        url = domain + 'reference/text',\n",
    "        headers = {'Authorization': 'Bearer ' + token,\n",
    "                 'Content-Type': 'application/json',\n",
    "                 'Accept':'application/json'},\n",
    "        data = json.dumps(payload)\n",
    "    )\n",
    "    \n",
    "    if response.status_code == 200:\n",
    "        return json.loads(response.content)['resolved'], 200\n",
    "    else:\n",
    "        print('From reference status_code is ', response.status_code)\n",
    "    return None, response.status_code"
   ]
  },
  {
   "cell_type": "code",
   "execution_count": null,
   "id": "fd0b7215",
   "metadata": {},
   "outputs": [],
   "source": [
    "# Read my reference strings file\n",
    "references = read_file(\"/Users/sao/Documents/Python-Projects/AHED/ref_list.txt\")\n",
    "references = [ref.replace('\\n','') for ref in references]"
   ]
  },
  {
   "cell_type": "code",
   "execution_count": null,
   "id": "1345fab2",
   "metadata": {},
   "outputs": [],
   "source": [
    "# Resolve my references, results in 'total results' list\n",
    "total_results = []\n",
    "\n",
    "for i in range(0, len(references), 16):\n",
    "    results, status = resolve(references[i:i+16])\n",
    "    if results:\n",
    "        total_results += results"
   ]
  },
  {
   "cell_type": "code",
   "execution_count": null,
   "id": "89585040",
   "metadata": {},
   "outputs": [],
   "source": [
    "# Method to count how many total bibcodes were matched\n",
    "bibcodes = []\n",
    "for record in total_results:\n",
    "    if record['bibcode']!='...................':\n",
    "        bibcodes.append(record['bibcode'])\n",
    "\n",
    "print('Matched',len(bibcodes),'bibcodes')"
   ]
  },
  {
   "cell_type": "markdown",
   "id": "67dcda57",
   "metadata": {},
   "source": [
    "### Step 3: Join to original data frame"
   ]
  },
  {
   "cell_type": "code",
   "execution_count": null,
   "id": "dedd25e0",
   "metadata": {},
   "outputs": [],
   "source": [
    "# Convert my reference results to a data frame and drop null values\n",
    "ref_results = pd.DataFrame(total_results)\n",
    "ref_results = ref_results.replace('...................', np.nan)\n",
    "ref_results = ref_results.dropna(subset=['bibcode'])\n",
    "ref_results"
   ]
  },
  {
   "cell_type": "code",
   "execution_count": null,
   "id": "3a729c99",
   "metadata": {},
   "outputs": [],
   "source": [
    "# Merge my new ref service results with my original paper list, join by the refstrings\n",
    "merged = pd.merge(df, ref_results, how='left', left_on='REFS', right_on='refstring')\n",
    "merged\n",
    "\n",
    "# Combine bibcode columns\n",
    "merged['BIBCODE'] = merged['bibcode_x'].fillna(merged['bibcode_y'])\n",
    "\n",
    "# Cleanup; drop unneeded columns\n",
    "merged = merged.drop('refstring',axis=1)\n",
    "merged = merged.drop('REFS',axis=1)\n",
    "merged = merged.drop('bibcode_x',axis=1)\n",
    "merged = merged.drop('bibcode_y',axis=1)\n",
    "merged = merged.drop('score',axis=1)\n",
    "merged = merged.drop('comment',axis=1)\n",
    "\n",
    "# Count my running total of bibcodes matched\n",
    "# merged = merged.dropna(subset=['BIBCODE'])\n",
    "\n",
    "# Clean up nulls\n",
    "merged = merged.replace(np.nan,'NA')\n",
    "\n",
    "# Export merged data to new excel file\n",
    "merged.to_excel(\"AHED/refs_matched.xlsx\", index=False)\n",
    "\n",
    "merged"
   ]
  },
  {
   "cell_type": "markdown",
   "id": "cc7f9920",
   "metadata": {},
   "source": [
    "Status/Summary:\n",
    "- Matched 156 DOIs to Bibcodes\n",
    "- Matched 397 additional bibcodes via ref strings\n",
    "- My total is 550 after merging (lost 2, probably duplicates)\n",
    "- Still have about 250 unmatched to go..."
   ]
  }
 ],
 "metadata": {
  "kernelspec": {
   "display_name": "Python 3",
   "language": "python",
   "name": "python3"
  },
  "language_info": {
   "codemirror_mode": {
    "name": "ipython",
    "version": 3
   },
   "file_extension": ".py",
   "mimetype": "text/x-python",
   "name": "python",
   "nbconvert_exporter": "python",
   "pygments_lexer": "ipython3",
   "version": "3.8.8"
  }
 },
 "nbformat": 4,
 "nbformat_minor": 5
}
